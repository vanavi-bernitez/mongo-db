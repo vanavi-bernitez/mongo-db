{
 "cells": [
  {
   "cell_type": "code",
   "execution_count": null,
   "metadata": {},
   "outputs": [],
   "source": []
  },
  {
   "cell_type": "markdown",
   "metadata": {},
   "source": [
    "Databases users\n",
    "\n",
    "Administrator: Manage DB configs, create users. NOT need to be able to insert or fetch data\n",
    "\n",
    "Developer/ App: CRUD. NOT need to be able of the administrator privileges\n",
    "\n",
    "Data scientist: Only fetch data. NOT admin privileges or insert, delete, edit data.\n",
    "\n"
   ]
  },
  {
   "cell_type": "code",
   "execution_count": null,
   "metadata": {},
   "outputs": [],
   "source": [
    "# Create administrator\n",
    "# Gives the right to Name user to administrate any database in the mongo enviroment\n",
    "> use admin\n",
    "> db.createUser({user: \"Name\", pwd: \"addPassword\", roles:[\"userAdminAnyDatabase\"]})\n",
    "\n",
    "\n",
    "#Authenticate. Make sure to execute this command inside admin database\n",
    "> dn.auth(\"Name\", \"password\")\n",
    "#Authenticating on CMD of this specific user as Admin\n",
    "# <**dbName i create the user> \n",
    "> mongo -u vivi -p vivi --authenticationDatabase <admin**>\n",
    "\n",
    "#Create a new user in a database, notice that roles: [readWrite]\n",
    "> use dbName\n",
    "> db.createUser({user: \"dbUserName\", pwd: \"dbUseraddPassword\", roles:[\"readWrite\"]})\n",
    "> db.auth(\"dbUserName\", \"dbUseraddPassword\")\n",
    "(cmd) > mongo -u dbUserName -p dbUseraddPassword --authenticationDatabase dbName\n",
    "db.createUser({user: \"appdev\", pwd: \"dev\", roles:[\"readWrite\"]})\n",
    "db.auth(\"appdev\", \"dev\")\n",
    "mongo -u appdev -p dev --authenticationDatabase shop\n",
    "\n",
    "#There's should be only one user manipulating the db. If there are two users authenticated manipulating\n",
    "#the db show an error. So we should logout before switching the user\n",
    "> db.logout()\n",
    "\n",
    "\n",
    "\"\"\" Role admin: vivi [\"userAdminAnyDatabase\"] in ADMIN database\n",
    "    Role dev/app: appdev [\"readWrite\"] in other db. ex. shop\n",
    "\"\"\"\n",
    "# so, im gonna update appdev, he can use now the dbs blog and shop.\n",
    "# Steps to succesfully update a user:\n",
    "#   --Si estoy desde rol dev/app, hay que logout\n",
    "#   --Ingresar a Admin DB\n",
    "#   --Logearme como Admin (osea vivi in this case)\n",
    "#   --Pasar a la db donde tengo creado el dev/app user\n",
    "#   --ejecutar el siguiente comando\n",
    "> db.updateUser(\"dbUserName\", {roles: [\"createUserROL\", {role: \"newROL\", db: \"newDB\"}]})\n",
    "> db.updateUser(\"appdev\", {roles: [\"readWrite\", {role: \"readWrite\", db: \"blog\"}]})\n",
    "# roles[0] set the config createds before in createUser (dbShop). And roles[1] are the new for dbBlog\n",
    "\n",
    "\n",
    "db.getUser() #shows the users in the current db\n",
    "db.getUser(\"userName\") #shows what dbs this user have access\n"
   ]
  },
  {
   "cell_type": "code",
   "execution_count": null,
   "metadata": {},
   "outputs": [],
   "source": [
    "# Create DB Admin: work on db, create collections and indexes. SUPER USER\n",
    "> use admin\n",
    "> db.createUser({user: \"vivi\", pwd: \"vivi\", roles:[\"userAdminAnyDatabase\"]})\n",
    "> db.auth(\"vivi\", \"vivi\")\n",
    "# Create user Admin: manage users\n",
    "> db.createUser({user: \"globalAdmin\", pwd: \"admin\", roles:[\"dbAdminAnyDatabase\"]})\n",
    "\n",
    "# Create user Dev: read/write in dbCustomers and dbSales\n",
    "> db.createUser({user: \"dev\", pwd: \"dev\", roles:[{role: \"readWrite\", db: \"customers\"}, {role: \"readWrite\", db: \"sales\"}]})\n"
   ]
  },
  {
   "cell_type": "markdown",
   "metadata": {},
   "source": [
    "El servidor quedó configurado para utlilizar siempre autenticación\n",
    "Para iniciarlo desde afuera usar\n",
    "> mongo -u [0] -p [1] --authenticationDatabase [2]\n",
    "\n",
    "[0], [1] nombre de usuario y contraseña.\n",
    "[2] db donde YO CREE ese usuario. No donde lo uso o lo necesito. DONDE LO CREE"
   ]
  },
  {
   "cell_type": "code",
   "execution_count": null,
   "metadata": {},
   "outputs": [],
   "source": [
    "\"\"\"\" TLS/SSL ENCRYPTION \"\"\"\n"
   ]
  },
  {
   "cell_type": "code",
   "execution_count": null,
   "metadata": {},
   "outputs": [],
   "source": [
    "mongosh \"mongodb+srv://cluster0.5wz3u8j.mongodb.net/dbName\" --apiVersion 1 --username vivi"
   ]
  },
  {
   "cell_type": "code",
   "execution_count": null,
   "metadata": {},
   "outputs": [],
   "source": []
  }
 ],
 "metadata": {
  "kernelspec": {
   "display_name": "Python 3.9.13 ('base')",
   "language": "python",
   "name": "python3"
  },
  "language_info": {
   "codemirror_mode": {
    "name": "ipython",
    "version": 3
   },
   "file_extension": ".py",
   "mimetype": "text/x-python",
   "name": "python",
   "nbconvert_exporter": "python",
   "pygments_lexer": "ipython3",
   "version": "3.9.13 (main, Oct 13 2022, 21:23:06) [MSC v.1916 64 bit (AMD64)]"
  },
  "orig_nbformat": 4,
  "vscode": {
   "interpreter": {
    "hash": "2fffb9416fef0f14d8c3180827823918a8a81fff6ed4e50b546e97970237eb04"
   }
  }
 },
 "nbformat": 4,
 "nbformat_minor": 2
}

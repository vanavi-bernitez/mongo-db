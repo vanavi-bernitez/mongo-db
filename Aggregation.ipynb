{
 "cells": [
  {
   "cell_type": "markdown",
   "metadata": {},
   "source": [
    "### Oficial doc for geospatial \n",
    "\n",
    "https://www.mongodb.com/docs/v5.0/reference/geojson/\n"
   ]
  },
  {
   "cell_type": "code",
   "execution_count": null,
   "metadata": {},
   "outputs": [],
   "source": [
    "> db.collectionName.insertOne(fieldName: {type: \"Point\", coordinates: [ 40, 5 ]}) # x: longitude y: latitude"
   ]
  },
  {
   "cell_type": "code",
   "execution_count": null,
   "metadata": {},
   "outputs": [],
   "source": []
  },
  {
   "cell_type": "markdown",
   "metadata": {},
   "source": [
    "### Aggregation\n",
    "Oficial documentation: https://www.mongodb.com/docs/v5.0/core/aggregation-pipeline/\n",
    "\n",
    "It's like find() method but from the backend side. It's a pipeline of operations. The output of one stage is the entry from the next"
   ]
  },
  {
   "cell_type": "code",
   "execution_count": null,
   "metadata": {},
   "outputs": [],
   "source": [
    "\"\"\" $group  vs  $projection \"\"\"\n",
    "# $group multiple documents into one. Like average value of a field in a collecition \n",
    "# $projection is a one to one relation, get one document and return one document. Modifications in a single doc, like create new fields\n",
    "\n",
    "\"\"\" Most important stages are: $match, $group, $project, $sort and $unwind\n",
    "\n",
    "there are some behaviors between find() and projections  AND $project and the aggregation stages\n",
    "\"\"\""
   ]
  }
 ],
 "metadata": {
  "kernelspec": {
   "display_name": "Python 3.9.13 ('base')",
   "language": "python",
   "name": "python3"
  },
  "language_info": {
   "name": "python",
   "version": "3.9.13 (main, Oct 13 2022, 21:23:06) [MSC v.1916 64 bit (AMD64)]"
  },
  "orig_nbformat": 4,
  "vscode": {
   "interpreter": {
    "hash": "2fffb9416fef0f14d8c3180827823918a8a81fff6ed4e50b546e97970237eb04"
   }
  }
 },
 "nbformat": 4,
 "nbformat_minor": 2
}

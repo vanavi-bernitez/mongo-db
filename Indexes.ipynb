{
 "cells": [
  {
   "cell_type": "markdown",
   "metadata": {},
   "source": [
    "Index: Speed up a query!\n",
    "\n",
    "Allows me to retrieve data more efficiently (if used correctly) becouse the queries only have to look at a subset of all documents\n",
    "\n",
    "* It's a list of values specified on the 1st parameter < {} > (Works like find / update search paramenter ) and pointers to the original document\n",
    "* Could be text index or number index\n",
    "* Cons: They will slow down my writes"
   ]
  },
  {
   "cell_type": "code",
   "execution_count": null,
   "metadata": {},
   "outputs": [],
   "source": [
    "#       < 1 > Creates an index with ascending sorting. < -1 > descending sorting\n",
    "> db.collectionName.createIndex({value: -1}}) \n",
    "#i.e. \n",
    "> db.contacts.createIndex({\"dob.age\": 1}}) \n",
    "\n",
    "#       See all indexes that exist for a collection (always gonna be a default _id: index)\n",
    "> db.collectionName.getIndexes()\n",
    "\n",
    "#       Drop index: Should specify the exact same document used for creating the Index\n",
    "# get Indexes show me the name of the index created. I can use that inf to drop a specific index\n",
    "> db.collectionName.dropIndex({value: 1}) \n",
    "#i.e. \n",
    "> db.contacts.dropIndex({\"dob.age\": 1}) \n",
    "\n",
    "#       Compound indexes use more than one doc field to create the list. Go from left to right. \n",
    "#Takes first all docs that match firstKey and from those, takes the ones that matchs secondKey\n",
    "> db.collectionName.createIndex({fisrtKey: 1, secondKey: 1}) \n",
    "#i.e. Case of SUCCESFUL MULTI-KEY index: puedo indexar un campo que sea un array (JUST ONE)\n",
    "# en este caso tomo todos los nombres y de esos nombres organizo el array de hobbies\n",
    "> db.collectionName.createIndex({name: 1, hobbies: 1})\n",
    "#i.e. ERROR MULTI-KEY index: intento indexar dos campos que son arrays o colección de documentos\n",
    "# cannot index parallel arrays! Se repetiría el almacenamiento de hobbies en tantos elementos tenga favCars\n",
    "> db.collectionName.createIndex({favCars: 1, hobbies: 1})\n",
    "\n",
    "\n",
    "\n",
    "#       Configure index (1st parameter) with a second parameter.\n",
    "> db.collectionName.createIndex({value: 1} , {configure index})\n",
    "#i.e. Index of emails in ascending order and should be a unique value. So cannot exist repeated emails or will show an error\n",
    "> db.contacts.createIndex({\"email\": 1}, {unique: true}) \n",
    "\n",
    "\n",
    "#       Partial filters works kinda like configure index. \n",
    "#Just gonna create an index of the specified values in 1st parameter if fits with conditions from second paramenter.\n",
    "> db.collectionName.createIndex({saveValue: 1}, {partialFilterExpression: {field: \"value\"}}) \n",
    "#i.e. Create an index of dob.age only witch the docs where gender is male. \n",
    "> db.contacts.createIndex({\"dob.age\": 1}, {partialFilterExpression: {gender: \"male\"}}) \n",
    "# if i wanna access to this index i must set the partial filter expression. \n",
    "# it doesn't matter the order, just matters put in <find> all the fields used in the index\n",
    "#i.e. from the index list i wanna grab all the male with age greater than 30\n",
    "> db.contacts.findMany({\"dob.age\": {$gte: 30}, gender: \"male\"})\n",
    "\n",
    "\n",
    "> db.collectionName.insertOne({name: \"ThisName\", createdAt: new Date()}) #current timestamp of current date\n",
    "#       Time to live (TTL) index. Helpful when i have self-destroying data. Como iniciar sesión y después de un rato expira\n",
    "# This index only works with DATE INDEXES or DATE FIELDS\n",
    "# Los documentos insertados después de que se creo el index van a eliminarse después de 10 segs\n",
    "# Maintain a collection of documents which destroy themselves after a certain time span\n",
    "> db.collectionName.createIndex({createdAt: 1}, {expireAfterSeconds: 10})\n",
    "\n",
    "\n",
    "\n",
    "\n"
   ]
  },
  {
   "cell_type": "code",
   "execution_count": null,
   "metadata": {},
   "outputs": [],
   "source": [
    "#       Text indexes: Se hace como con palabras clave\n",
    "#Definir el campo con strings al que le quiero crear el index. \n",
    "# En vez de decir que quiero organizarlo ascendente o descendente. Digo que es de tipo <\"text\">.\n",
    "> db.collectionName.createIndex({stringField: \"text\"})\n",
    "> db.collectionName.createIndex({stringField: \"text\", secondField: \"text\"}) #conbined text indexes\n",
    "# This allows me to use the special <$text> key to search inside the string of the field declared \n",
    "> db.collectionName.find({$text: {$search: \"\\\"this phrase\\\"\"}}) #this sintax allows to match a phrase. Not individual terms\n",
    "> db.collectionName.find({$text: {$search: \"singleWord\"}})\n",
    "> db.collectionName.find({$text: {$search: \"word1 word2\"}}) #gonna match like individual terms\n",
    "> db.collectionName.find({$text: {$search: \"word1 -word2\"}}) #the minus < - > excluded the second word in the query.\n",
    "\n",
    "\n",
    "#       Setting default language (theres only like 15)\n",
    "#       Weights: more relevant find X word in field1 than field2. In this case secondField worth 12 times more than stringField\n",
    "> db.collectionName.createIndex({stringField: \"text\", secondField: \"text\"}, {default_language: \"spanish\", weights:{stringField: 1, secondField: 12}})\n",
    "\n",
    "\n",
    "\n",
    "\n"
   ]
  }
 ],
 "metadata": {
  "kernelspec": {
   "display_name": "Python 3.9.13 ('base')",
   "language": "python",
   "name": "python3"
  },
  "language_info": {
   "name": "python",
   "version": "3.9.13 (main, Oct 13 2022, 21:23:06) [MSC v.1916 64 bit (AMD64)]"
  },
  "orig_nbformat": 4,
  "vscode": {
   "interpreter": {
    "hash": "2fffb9416fef0f14d8c3180827823918a8a81fff6ed4e50b546e97970237eb04"
   }
  }
 },
 "nbformat": 4,
 "nbformat_minor": 2
}
